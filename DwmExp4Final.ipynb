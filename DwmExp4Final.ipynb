{
  "nbformat": 4,
  "nbformat_minor": 0,
  "metadata": {
    "colab": {
      "provenance": [],
      "collapsed_sections": []
    },
    "kernelspec": {
      "name": "python3",
      "display_name": "Python 3"
    },
    "language_info": {
      "name": "python"
    }
  },
  "cells": [
    {
      "cell_type": "markdown",
      "source": [
        "# **Apriori Algorithm without using Standard libraries**"
      ],
      "metadata": {
        "id": "f-7zxkmgAL5g"
      }
    },
    {
      "cell_type": "code",
      "source": [
        "import pandas as pd"
      ],
      "metadata": {
        "id": "xT_FPkQMA7jg"
      },
      "execution_count": null,
      "outputs": []
    },
    {
      "cell_type": "code",
      "source": [
        "df = pd.read_csv(\"/content/GroceryStoreDataSet.csv\", header=None)"
      ],
      "metadata": {
        "id": "MWcP9DmsDitY"
      },
      "execution_count": null,
      "outputs": []
    },
    {
      "cell_type": "code",
      "source": [
        "m_arr = []\n",
        "arr = []"
      ],
      "metadata": {
        "id": "AfnPBZys-xMI"
      },
      "execution_count": null,
      "outputs": []
    },
    {
      "cell_type": "code",
      "source": [
        "len(df)"
      ],
      "metadata": {
        "colab": {
          "base_uri": "https://localhost:8080/"
        },
        "id": "_Q6bZWVcOHGN",
        "outputId": "83d7ddd6-7a25-436f-f83d-130e7debd9d9"
      },
      "execution_count": null,
      "outputs": [
        {
          "output_type": "execute_result",
          "data": {
            "text/plain": [
              "20"
            ]
          },
          "metadata": {},
          "execution_count": 4
        }
      ]
    },
    {
      "cell_type": "code",
      "source": [
        "for i in range (0,20):\n",
        "  temp=df[0][i].split(\",\")\n",
        "  for j in range (0,len(temp)):\n",
        "    arr.append(temp[j])\n",
        "  m_arr.append(arr)\n",
        "  arr=[]\n",
        "    \n",
        "\n",
        "\n"
      ],
      "metadata": {
        "id": "ZvCzOc-6-ILY"
      },
      "execution_count": null,
      "outputs": []
    },
    {
      "cell_type": "code",
      "source": [
        "init = []\n",
        "for i in m_arr:\n",
        "    for q in i:\n",
        "        if(q not in init):\n",
        "            init.append(q)\n",
        "\n",
        "print(init)"
      ],
      "metadata": {
        "colab": {
          "base_uri": "https://localhost:8080/"
        },
        "id": "N29LtD4VDWt3",
        "outputId": "a3c203ca-0547-42fc-f27e-dfca0abda6f5"
      },
      "execution_count": null,
      "outputs": [
        {
          "output_type": "stream",
          "name": "stdout",
          "text": [
            "['MILK', 'BREAD', 'BISCUIT', 'CORNFLAKES', 'TEA', 'BOURNVITA', 'JAM', 'MAGGI', 'COFFEE', 'COCK', 'SUGER']\n"
          ]
        }
      ]
    },
    {
      "cell_type": "code",
      "source": [
        "init=sorted(init)\n",
        "init\n"
      ],
      "metadata": {
        "colab": {
          "base_uri": "https://localhost:8080/"
        },
        "id": "rzrmX3eGKUVn",
        "outputId": "2c1456de-b408-4a29-cc72-0a2d089b538a"
      },
      "execution_count": null,
      "outputs": [
        {
          "output_type": "execute_result",
          "data": {
            "text/plain": [
              "['BISCUIT',\n",
              " 'BOURNVITA',\n",
              " 'BREAD',\n",
              " 'COCK',\n",
              " 'COFFEE',\n",
              " 'CORNFLAKES',\n",
              " 'JAM',\n",
              " 'MAGGI',\n",
              " 'MILK',\n",
              " 'SUGER',\n",
              " 'TEA']"
            ]
          },
          "metadata": {},
          "execution_count": 7
        }
      ]
    },
    {
      "cell_type": "code",
      "source": [
        "#Setting minimum support =2"
      ],
      "metadata": {
        "id": "aKJd1UpY2oZV"
      },
      "execution_count": null,
      "outputs": []
    },
    {
      "cell_type": "code",
      "source": [
        "s=2"
      ],
      "metadata": {
        "id": "782UMHIEIcF0"
      },
      "execution_count": null,
      "outputs": []
    },
    {
      "cell_type": "code",
      "source": [
        "#Apriori Algorithm"
      ],
      "metadata": {
        "id": "uMqi4sPF1uYJ"
      },
      "execution_count": null,
      "outputs": []
    },
    {
      "cell_type": "code",
      "source": [
        "from collections import Counter\n",
        "c = Counter()\n",
        "for i in init:\n",
        "    for d in m_arr:\n",
        "        if(i in d[1]):\n",
        "            c[i]+=1\n",
        "print(\"C1:\")\n",
        "for i in c:\n",
        "    print(str([i])+\": \"+str(c[i]))\n",
        "print()\n",
        "l = Counter()\n",
        "for i in c:\n",
        "    if(c[i] >= s):\n",
        "        l[frozenset([i])]+=c[i]\n",
        "print(\"L1:\")\n",
        "for i in l:\n",
        "    print(str(list(i))+\": \"+str(l[i]))\n",
        "print()\n",
        "pl = l\n",
        "pos = 1\n",
        "for count in range (2,6):\n",
        "    nc = set()\n",
        "    temp = list(l)\n",
        "    for i in range(0,len(temp)):\n",
        "        for j in range(i+1,len(temp)):\n",
        "            t = temp[i].union(temp[j])\n",
        "            if(len(t) == count):\n",
        "                nc.add(temp[i].union(temp[j]))\n",
        "    nc = list(nc)\n",
        "    c = Counter()\n",
        "    for i in nc:\n",
        "        c[i] = 0\n",
        "        for q in m_arr:\n",
        "            temp = set(q)\n",
        "            if(i.issubset(temp)):\n",
        "                c[i]+=1\n",
        "    print(\"C\"+str(count)+\":\")\n",
        "    for i in c:\n",
        "        print(str(list(i))+\": \"+str(c[i]))\n",
        "    print()\n",
        "    l = Counter()\n",
        "    for i in c:\n",
        "        if(c[i] >= s):\n",
        "            l[i]+=c[i]\n",
        "    print(\"L\"+str(count)+\":\")\n",
        "    for i in l:\n",
        "        print(str(list(i))+\": \"+str(l[i]))\n",
        "    print()\n",
        "    if(len(l) == 0):\n",
        "        break\n",
        "    pl = l\n",
        "    pos = count\n",
        "print(\"Result: \")\n",
        "print(\"L\"+str(pos)+\":\")\n",
        "for i in pl:\n",
        "    print(str(list(i))+\": \"+str(pl[i]))\n",
        "print()"
      ],
      "metadata": {
        "colab": {
          "base_uri": "https://localhost:8080/"
        },
        "id": "QOOrHG8mFEi4",
        "outputId": "b3a77e1a-c070-41ac-ad30-d7a50f6949bb"
      },
      "execution_count": null,
      "outputs": [
        {
          "output_type": "stream",
          "name": "stdout",
          "text": [
            "C1:\n",
            "['BREAD']: 2\n",
            "['COCK']: 2\n",
            "['COFFEE']: 3\n",
            "['MAGGI']: 2\n",
            "['MILK']: 3\n",
            "['SUGER']: 4\n",
            "['TEA']: 4\n",
            "\n",
            "L1:\n",
            "['BREAD']: 2\n",
            "['COCK']: 2\n",
            "['COFFEE']: 3\n",
            "['MAGGI']: 2\n",
            "['MILK']: 3\n",
            "['SUGER']: 4\n",
            "['TEA']: 4\n",
            "\n",
            "C2:\n",
            "['COCK', 'COFFEE']: 3\n",
            "['COFFEE', 'MAGGI']: 0\n",
            "['MILK', 'MAGGI']: 1\n",
            "['COCK', 'MAGGI']: 0\n",
            "['SUGER', 'MAGGI']: 0\n",
            "['COFFEE', 'MILK']: 1\n",
            "['MILK', 'SUGER']: 0\n",
            "['MILK', 'TEA']: 1\n",
            "['COCK', 'MILK']: 0\n",
            "['COFFEE', 'SUGER']: 4\n",
            "['TEA', 'MAGGI']: 4\n",
            "['SUGER', 'BREAD']: 4\n",
            "['COCK', 'TEA']: 0\n",
            "['COFFEE', 'TEA']: 1\n",
            "['COFFEE', 'BREAD']: 3\n",
            "['TEA', 'BREAD']: 4\n",
            "['COCK', 'SUGER']: 0\n",
            "['MILK', 'BREAD']: 4\n",
            "['COCK', 'BREAD']: 1\n",
            "['MAGGI', 'BREAD']: 3\n",
            "['TEA', 'SUGER']: 0\n",
            "\n",
            "L2:\n",
            "['COCK', 'COFFEE']: 3\n",
            "['COFFEE', 'SUGER']: 4\n",
            "['TEA', 'MAGGI']: 4\n",
            "['SUGER', 'BREAD']: 4\n",
            "['COFFEE', 'BREAD']: 3\n",
            "['TEA', 'BREAD']: 4\n",
            "['MILK', 'BREAD']: 4\n",
            "['MAGGI', 'BREAD']: 3\n",
            "\n",
            "C3:\n",
            "['COFFEE', 'BREAD', 'SUGER']: 2\n",
            "['COCK', 'COFFEE', 'SUGER']: 0\n",
            "['SUGER', 'TEA', 'BREAD']: 0\n",
            "['COFFEE', 'TEA', 'BREAD']: 0\n",
            "['MAGGI', 'MILK', 'BREAD']: 1\n",
            "['TEA', 'MILK', 'BREAD']: 0\n",
            "['COCK', 'COFFEE', 'BREAD']: 1\n",
            "['SUGER', 'MILK', 'BREAD']: 0\n",
            "['COFFEE', 'MAGGI', 'BREAD']: 0\n",
            "['SUGER', 'MAGGI', 'BREAD']: 0\n",
            "['TEA', 'BREAD', 'MAGGI']: 2\n",
            "['COFFEE', 'MILK', 'BREAD']: 0\n",
            "\n",
            "L3:\n",
            "['COFFEE', 'BREAD', 'SUGER']: 2\n",
            "['TEA', 'BREAD', 'MAGGI']: 2\n",
            "\n",
            "C4:\n",
            "\n",
            "L4:\n",
            "\n",
            "Result: \n",
            "L3:\n",
            "['COFFEE', 'BREAD', 'SUGER']: 2\n",
            "['TEA', 'BREAD', 'MAGGI']: 2\n",
            "\n"
          ]
        }
      ]
    },
    {
      "cell_type": "code",
      "source": [
        "#Finding the association rules for the subsets"
      ],
      "metadata": {
        "id": "FwQRQbdE2efn"
      },
      "execution_count": null,
      "outputs": []
    },
    {
      "cell_type": "code",
      "source": [
        "from itertools import combinations\n",
        "for l in pl:\n",
        "    c = [frozenset(q) for q in combinations(l,len(l)-1)]\n",
        "    mmax = 0\n",
        "    for a in c:\n",
        "        b = l-a\n",
        "        ab = l\n",
        "        sab = 0\n",
        "        sa = 0\n",
        "        sb = 0\n",
        "        for q in m_arr:\n",
        "            temp = set(q)\n",
        "            if(a.issubset(temp)):\n",
        "                sa+=1\n",
        "            if(b.issubset(temp)):\n",
        "                sb+=1\n",
        "            if(ab.issubset(temp)):\n",
        "                sab+=1\n",
        "        temp = sab/sa*100\n",
        "        if(temp > mmax):\n",
        "            mmax = temp\n",
        "        temp = sab/sb*100\n",
        "        if(temp > mmax):\n",
        "            mmax = temp\n",
        "        print(str(list(a))+\" -> \"+str(list(b))+\" = \"+str(sab/sa*100)+\"%\")\n",
        "        print(str(list(b))+\" -> \"+str(list(a))+\" = \"+str(sab/sb*100)+\"%\")\n",
        "\n",
        "    for a in c:\n",
        "        b = l-a\n",
        "        ab = l\n",
        "        sab = 0\n",
        "        sa = 0\n",
        "        sb = 0\n",
        "        for q in m_arr:\n",
        "            temp = set(q)\n",
        "            if(a.issubset(temp)):\n",
        "                sa+=1\n",
        "            if(b.issubset(temp)):\n",
        "                sb+=1\n",
        "            if(ab.issubset(temp)):\n",
        "                sab+=1\n",
        "        temp = sab/sa*100\n",
        "        \n",
        "    print()\n",
        "    print()"
      ],
      "metadata": {
        "colab": {
          "base_uri": "https://localhost:8080/"
        },
        "id": "NMX2fuSHWNAM",
        "outputId": "fd4655fe-c8ec-4e70-a841-6443e3b2fe3d"
      },
      "execution_count": null,
      "outputs": [
        {
          "output_type": "stream",
          "name": "stdout",
          "text": [
            "['COFFEE', 'BREAD'] -> ['SUGER'] = 66.66666666666666%\n",
            "['SUGER'] -> ['COFFEE', 'BREAD'] = 33.33333333333333%\n",
            "['COFFEE', 'SUGER'] -> ['BREAD'] = 50.0%\n",
            "['BREAD'] -> ['COFFEE', 'SUGER'] = 15.384615384615385%\n",
            "['SUGER', 'BREAD'] -> ['COFFEE'] = 50.0%\n",
            "['COFFEE'] -> ['SUGER', 'BREAD'] = 25.0%\n",
            "\n",
            "\n",
            "['BREAD', 'TEA'] -> ['MAGGI'] = 50.0%\n",
            "['MAGGI'] -> ['BREAD', 'TEA'] = 40.0%\n",
            "['MAGGI', 'TEA'] -> ['BREAD'] = 50.0%\n",
            "['BREAD'] -> ['MAGGI', 'TEA'] = 15.384615384615385%\n",
            "['MAGGI', 'BREAD'] -> ['TEA'] = 66.66666666666666%\n",
            "['TEA'] -> ['MAGGI', 'BREAD'] = 28.57142857142857%\n",
            "\n",
            "\n"
          ]
        }
      ]
    },
    {
      "cell_type": "markdown",
      "source": [
        "# **Apriori Algorithm using standard libraries**"
      ],
      "metadata": {
        "id": "hjK3Utbs44cI"
      }
    },
    {
      "cell_type": "code",
      "source": [
        "from mlxtend.frequent_patterns import apriori, association_rules\n",
        "from mlxtend.preprocessing import TransactionEncoder"
      ],
      "metadata": {
        "id": "qdE9FbP142sF"
      },
      "execution_count": null,
      "outputs": []
    },
    {
      "cell_type": "code",
      "source": [
        "m_arr"
      ],
      "metadata": {
        "colab": {
          "base_uri": "https://localhost:8080/"
        },
        "id": "VcJQhWxP9Fy8",
        "outputId": "d31fea22-83cd-46cd-ac9e-a25fdcbdb0cc"
      },
      "execution_count": null,
      "outputs": [
        {
          "output_type": "execute_result",
          "data": {
            "text/plain": [
              "[['MILK', 'BREAD', 'BISCUIT'],\n",
              " ['BREAD', 'MILK', 'BISCUIT', 'CORNFLAKES'],\n",
              " ['BREAD', 'TEA', 'BOURNVITA'],\n",
              " ['JAM', 'MAGGI', 'BREAD', 'MILK'],\n",
              " ['MAGGI', 'TEA', 'BISCUIT'],\n",
              " ['BREAD', 'TEA', 'BOURNVITA'],\n",
              " ['MAGGI', 'TEA', 'CORNFLAKES'],\n",
              " ['MAGGI', 'BREAD', 'TEA', 'BISCUIT'],\n",
              " ['JAM', 'MAGGI', 'BREAD', 'TEA'],\n",
              " ['BREAD', 'MILK'],\n",
              " ['COFFEE', 'COCK', 'BISCUIT', 'CORNFLAKES'],\n",
              " ['COFFEE', 'COCK', 'BISCUIT', 'CORNFLAKES'],\n",
              " ['COFFEE', 'SUGER', 'BOURNVITA'],\n",
              " ['BREAD', 'COFFEE', 'COCK'],\n",
              " ['BREAD', 'SUGER', 'BISCUIT'],\n",
              " ['COFFEE', 'SUGER', 'CORNFLAKES'],\n",
              " ['BREAD', 'SUGER', 'BOURNVITA'],\n",
              " ['BREAD', 'COFFEE', 'SUGER'],\n",
              " ['BREAD', 'COFFEE', 'SUGER'],\n",
              " ['TEA', 'MILK', 'COFFEE', 'CORNFLAKES']]"
            ]
          },
          "metadata": {},
          "execution_count": 15
        }
      ]
    },
    {
      "cell_type": "code",
      "source": [
        "te =TransactionEncoder()\n",
        "te_data =te.fit(m_arr).transform(m_arr)\n",
        "df = pd.DataFrame(te_data,columns =te.columns_)\n",
        "print(df)"
      ],
      "metadata": {
        "colab": {
          "base_uri": "https://localhost:8080/"
        },
        "id": "Sz65965t9bBb",
        "outputId": "f881391a-836d-4bfd-b8eb-7986ebefb5d0"
      },
      "execution_count": null,
      "outputs": [
        {
          "output_type": "stream",
          "name": "stdout",
          "text": [
            "    BISCUIT  BOURNVITA  BREAD   COCK  COFFEE  CORNFLAKES    JAM  MAGGI   MILK  \\\n",
            "0      True      False   True  False   False       False  False  False   True   \n",
            "1      True      False   True  False   False        True  False  False   True   \n",
            "2     False       True   True  False   False       False  False  False  False   \n",
            "3     False      False   True  False   False       False   True   True   True   \n",
            "4      True      False  False  False   False       False  False   True  False   \n",
            "5     False       True   True  False   False       False  False  False  False   \n",
            "6     False      False  False  False   False        True  False   True  False   \n",
            "7      True      False   True  False   False       False  False   True  False   \n",
            "8     False      False   True  False   False       False   True   True  False   \n",
            "9     False      False   True  False   False       False  False  False   True   \n",
            "10     True      False  False   True    True        True  False  False  False   \n",
            "11     True      False  False   True    True        True  False  False  False   \n",
            "12    False       True  False  False    True       False  False  False  False   \n",
            "13    False      False   True   True    True       False  False  False  False   \n",
            "14     True      False   True  False   False       False  False  False  False   \n",
            "15    False      False  False  False    True        True  False  False  False   \n",
            "16    False       True   True  False   False       False  False  False  False   \n",
            "17    False      False   True  False    True       False  False  False  False   \n",
            "18    False      False   True  False    True       False  False  False  False   \n",
            "19    False      False  False  False    True        True  False  False   True   \n",
            "\n",
            "    SUGER    TEA  \n",
            "0   False  False  \n",
            "1   False  False  \n",
            "2   False   True  \n",
            "3   False  False  \n",
            "4   False   True  \n",
            "5   False   True  \n",
            "6   False   True  \n",
            "7   False   True  \n",
            "8   False   True  \n",
            "9   False  False  \n",
            "10  False  False  \n",
            "11  False  False  \n",
            "12   True  False  \n",
            "13  False  False  \n",
            "14   True  False  \n",
            "15   True  False  \n",
            "16   True  False  \n",
            "17   True  False  \n",
            "18   True  False  \n",
            "19  False   True  \n"
          ]
        }
      ]
    },
    {
      "cell_type": "code",
      "source": [
        "df.to_csv('df.csv')"
      ],
      "metadata": {
        "id": "_3aCxTr1C5iD"
      },
      "execution_count": null,
      "outputs": []
    },
    {
      "cell_type": "code",
      "source": [
        "df1=apriori(df,min_support=0.01,use_colnames= True)\n",
        "print(df1)"
      ],
      "metadata": {
        "colab": {
          "base_uri": "https://localhost:8080/"
        },
        "id": "VoIwBULV_ESb",
        "outputId": "90ed2733-2d64-40b9-f43d-fa82b3e51539"
      },
      "execution_count": null,
      "outputs": [
        {
          "output_type": "stream",
          "name": "stdout",
          "text": [
            "    support                             itemsets\n",
            "0      0.35                            (BISCUIT)\n",
            "1      0.20                          (BOURNVITA)\n",
            "2      0.65                              (BREAD)\n",
            "3      0.15                               (COCK)\n",
            "4      0.40                             (COFFEE)\n",
            "..      ...                                  ...\n",
            "78     0.05         (TEA, MAGGI, BISCUIT, BREAD)\n",
            "79     0.10  (COCK, COFFEE, CORNFLAKES, BISCUIT)\n",
            "80     0.05            (MAGGI, MILK, JAM, BREAD)\n",
            "81     0.05             (TEA, MAGGI, JAM, BREAD)\n",
            "82     0.05      (COFFEE, CORNFLAKES, MILK, TEA)\n",
            "\n",
            "[83 rows x 2 columns]\n"
          ]
        }
      ]
    },
    {
      "cell_type": "code",
      "source": [
        "df_ar =association_rules(df1,metric ='confidence',min_threshold=0.5)\n",
        "print(df_ar)"
      ],
      "metadata": {
        "colab": {
          "base_uri": "https://localhost:8080/"
        },
        "id": "wTDipplW_gSI",
        "outputId": "4d80b3de-5cc8-4387-ee56-78a15949c5f9"
      },
      "execution_count": null,
      "outputs": [
        {
          "output_type": "stream",
          "name": "stdout",
          "text": [
            "            antecedents           consequents  antecedent support  \\\n",
            "0             (BISCUIT)               (BREAD)                0.35   \n",
            "1                (COCK)             (BISCUIT)                0.15   \n",
            "2          (CORNFLAKES)             (BISCUIT)                0.30   \n",
            "3           (BOURNVITA)               (BREAD)                0.20   \n",
            "4           (BOURNVITA)               (SUGER)                0.20   \n",
            "..                  ...                   ...                 ...   \n",
            "141      (COFFEE, MILK)     (CORNFLAKES, TEA)                0.05   \n",
            "142       (COFFEE, TEA)    (CORNFLAKES, MILK)                0.05   \n",
            "143  (CORNFLAKES, MILK)         (COFFEE, TEA)                0.10   \n",
            "144   (CORNFLAKES, TEA)        (COFFEE, MILK)                0.10   \n",
            "145         (MILK, TEA)  (COFFEE, CORNFLAKES)                0.05   \n",
            "\n",
            "     consequent support  support  confidence       lift  leverage  conviction  \n",
            "0                  0.65     0.20    0.571429   0.879121   -0.0275    0.816667  \n",
            "1                  0.35     0.10    0.666667   1.904762    0.0475    1.950000  \n",
            "2                  0.35     0.15    0.500000   1.428571    0.0450    1.300000  \n",
            "3                  0.65     0.15    0.750000   1.153846    0.0200    1.400000  \n",
            "4                  0.30     0.10    0.500000   1.666667    0.0400    1.400000  \n",
            "..                  ...      ...         ...        ...       ...         ...  \n",
            "141                0.10     0.05    1.000000  10.000000    0.0450         inf  \n",
            "142                0.10     0.05    1.000000  10.000000    0.0450         inf  \n",
            "143                0.05     0.05    0.500000  10.000000    0.0450    1.900000  \n",
            "144                0.05     0.05    0.500000  10.000000    0.0450    1.900000  \n",
            "145                0.20     0.05    1.000000   5.000000    0.0400         inf  \n",
            "\n",
            "[146 rows x 9 columns]\n"
          ]
        }
      ]
    }
  ]
}