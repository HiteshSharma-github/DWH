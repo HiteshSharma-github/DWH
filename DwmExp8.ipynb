{
  "nbformat": 4,
  "nbformat_minor": 0,
  "metadata": {
    "colab": {
      "provenance": [],
      "collapsed_sections": []
    },
    "kernelspec": {
      "name": "python3",
      "display_name": "Python 3"
    },
    "language_info": {
      "name": "python"
    }
  },
  "cells": [
    {
      "cell_type": "markdown",
      "source": [
        "* First Row - Outlook (0 = Sunny, 1 = Overcast, 2 = Rainy)\n",
        "* Second Row - Temperature(hot = 0, mild = 1, cool = 2)\n",
        "* Third Row - Humidity(normal = 0, high = 1)\n",
        "* Fourth Row - Windy(false = 0, true = 1)\n",
        "* Fifth Row - Class(no = 0, yes = 1)"
      ],
      "metadata": {
        "id": "BuoJX2ePqiGf"
      }
    },
    {
      "cell_type": "code",
      "execution_count": null,
      "metadata": {
        "colab": {
          "base_uri": "https://localhost:8080/"
        },
        "id": "9g4u5h0El42e",
        "outputId": "b4bbe2d5-f9ec-4adf-efbe-d2d44af170e7"
      },
      "outputs": [
        {
          "output_type": "stream",
          "name": "stdout",
          "text": [
            "0\n",
            "[0, 0, 1, 0, 0]\n",
            "[0, 0, 1, 1, 0]\n",
            "[2, 2, 0, 1, 0]\n",
            "[0, 1, 1, 0, 0]\n",
            "[2, 1, 1, 1, 0]\n",
            "1\n",
            "[1, 0, 1, 0, 1]\n",
            "[2, 1, 1, 0, 1]\n",
            "[2, 2, 0, 0, 1]\n",
            "[1, 2, 0, 1, 1]\n",
            "[0, 2, 0, 0, 1]\n",
            "[2, 1, 0, 0, 1]\n",
            "[0, 1, 0, 1, 1]\n",
            "[1, 1, 1, 1, 1]\n",
            "[1, 0, 0, 0, 1]\n",
            "\n",
            "Total yes: 9 / 14\n",
            "for feature 1\n",
            "2 / 9\n",
            "for feature 2\n",
            "2 / 9\n",
            "for feature 3\n",
            "3 / 9\n",
            "for feature 4\n",
            "6 / 9\n",
            "Probability of X|Yes is : 0.007054673721340388\n",
            "\n",
            "Total no: 5 / 14\n",
            "for feature 1\n",
            "3 / 5\n",
            "for feature 2\n",
            "2 / 5\n",
            "for feature 3\n",
            "4 / 5\n",
            "for feature 4\n",
            "2 / 5\n",
            "Probability of X|No is : 0.02742857142857143\n",
            "\n",
            "Probability of playing golf: 1.937046004842615%\n"
          ]
        }
      ],
      "source": [
        "dataset = [\n",
        "           [0,0,1,0,0],\n",
        "           [0,0,1,1,0],\n",
        "           [1,0,1,0,1],\n",
        "           [2,1,1,0,1],\n",
        "           [2,2,0,0,1],\n",
        "           [2,2,0,1,0],\n",
        "           [1,2,0,1,1],\n",
        "           [0,1,1,0,0],\n",
        "           [0,2,0,0,1],\n",
        "           [2,1,0,0,1],\n",
        "           [0,1,0,1,1],\n",
        "           [1,1,1,1,1],\n",
        "           [1,0,0,0,1],\n",
        "           [2,1,1,1,0]\n",
        "           ]\n",
        "\n",
        "# Empty dict for yes no as keys - Stores the list of row having yes and no in a list with a key\n",
        "dict_yn = dict()\n",
        "\n",
        "for i in range(len(dataset)):\n",
        "    row = dataset[i]\n",
        "    yn = row[-1] # To get the yes no value from the last column\n",
        "    if (yn not in dict_yn):\n",
        "        dict_yn[yn] = list() # If not init then create a key for yes and no with a list as value\n",
        "    dict_yn[yn].append(row) # To append the row of yes or no row in the keys list\n",
        "\n",
        "# To print key values of yes and no\n",
        "for label in dict_yn:\n",
        "    print(label)\n",
        "    for row in dict_yn[label]:\n",
        "        print(row)\n",
        "\n",
        "# Test Case\n",
        "test = [0,0,1,0]\n",
        "\n",
        "# To get the probability of yes from total rows and get the prob of test case\n",
        "probYes = 1\n",
        "count = 0\n",
        "total = 0\n",
        "for row in dataset:\n",
        "    if(row[-1] == 1):\n",
        "        count+=1\n",
        "    total+=1\n",
        "    \n",
        "print(\"\\nTotal yes: \"+str(count)+\" / \"+str(total))\n",
        "probYes *= count/total\n",
        "for i in range(len(test)):\n",
        "    count = 0\n",
        "    total = 0\n",
        "    for row in dict_yn[1]:\n",
        "        if(test[i] == row[i]):\n",
        "            count += 1\n",
        "        total += 1\n",
        "    print('for feature '+str(i+1))\n",
        "    print(str(count)+\" / \"+str(total))\n",
        "    probYes *= count/total\n",
        "print(f\"Probability of X|Yes is : {probYes}\")\n",
        "\n",
        "# To get the probability of no from total rows and get the prob of test case\n",
        "probNo = 1\n",
        "count = 0\n",
        "total = 0\n",
        "for row in dataset:\n",
        "    if(row[-1] == 0):\n",
        "        count+=1\n",
        "    total+=1\n",
        "probNo *= count/total\n",
        "print(\"\\nTotal no: \"+str(count)+\" / \"+str(total))\n",
        "for i in range(len(test)):\n",
        "    count = 0\n",
        "    total = 0\n",
        "    for row in dict_yn[0]:\n",
        "        if(test[i] == row[i]):\n",
        "            count += 1\n",
        "        total += 1\n",
        "    print('for feature '+str(i+1))\n",
        "    print(str(count)+\" / \"+str(total))\n",
        "    probNo *= count/total\n",
        "    probYes *= count/total\n",
        "print(f\"Probability of X|No is : {probNo}\")\n",
        "\n",
        "prob = probYes/(probYes+probNo)\n",
        "print(\"\\nProbability of playing golf: \"+str(prob*100)+\"%\")"
      ]
    },
    {
      "cell_type": "code",
      "source": [],
      "metadata": {
        "id": "6CuQdld9mEja"
      },
      "execution_count": null,
      "outputs": []
    }
  ]
}