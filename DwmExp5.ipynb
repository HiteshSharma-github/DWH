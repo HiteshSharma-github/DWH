{
  "nbformat": 4,
  "nbformat_minor": 0,
  "metadata": {
    "colab": {
      "provenance": [],
      "collapsed_sections": []
    },
    "kernelspec": {
      "name": "python3",
      "display_name": "Python 3"
    },
    "language_info": {
      "name": "python"
    }
  },
  "cells": [
    {
      "cell_type": "markdown",
      "source": [
        "#Kmeans using libraries"
      ],
      "metadata": {
        "id": "G5ajnEhkPQv0"
      }
    },
    {
      "cell_type": "code",
      "source": [
        "import pandas as pd \n",
        "import numpy as np"
      ],
      "metadata": {
        "id": "mOuxdyJIWAaC"
      },
      "execution_count": null,
      "outputs": []
    },
    {
      "cell_type": "code",
      "execution_count": null,
      "metadata": {
        "id": "DJG6s9poUzc8"
      },
      "outputs": [],
      "source": [
        "df = pd.read_csv(\"/content/exp3_heart.csv\")"
      ]
    },
    {
      "cell_type": "code",
      "source": [
        "df = df[['age','trestbps']]"
      ],
      "metadata": {
        "id": "K-j8IH8QWTnr"
      },
      "execution_count": null,
      "outputs": []
    },
    {
      "cell_type": "code",
      "source": [
        "df"
      ],
      "metadata": {
        "colab": {
          "base_uri": "https://localhost:8080/",
          "height": 424
        },
        "id": "4Oi-oItUWeDd",
        "outputId": "415ada29-0f68-480a-eb2f-c143dd0d5eff"
      },
      "execution_count": null,
      "outputs": [
        {
          "output_type": "execute_result",
          "data": {
            "text/plain": [
              "     age  trestbps\n",
              "0     63     145.0\n",
              "1     37     130.0\n",
              "2     41     130.0\n",
              "3     56     120.0\n",
              "4     57     120.0\n",
              "..   ...       ...\n",
              "298   57     140.0\n",
              "299   45     110.0\n",
              "300   68     144.0\n",
              "301   57     130.0\n",
              "302   57     130.0\n",
              "\n",
              "[303 rows x 2 columns]"
            ],
            "text/html": [
              "\n",
              "  <div id=\"df-ec8ce503-bcd9-4300-96b5-e88135c68d78\">\n",
              "    <div class=\"colab-df-container\">\n",
              "      <div>\n",
              "<style scoped>\n",
              "    .dataframe tbody tr th:only-of-type {\n",
              "        vertical-align: middle;\n",
              "    }\n",
              "\n",
              "    .dataframe tbody tr th {\n",
              "        vertical-align: top;\n",
              "    }\n",
              "\n",
              "    .dataframe thead th {\n",
              "        text-align: right;\n",
              "    }\n",
              "</style>\n",
              "<table border=\"1\" class=\"dataframe\">\n",
              "  <thead>\n",
              "    <tr style=\"text-align: right;\">\n",
              "      <th></th>\n",
              "      <th>age</th>\n",
              "      <th>trestbps</th>\n",
              "    </tr>\n",
              "  </thead>\n",
              "  <tbody>\n",
              "    <tr>\n",
              "      <th>0</th>\n",
              "      <td>63</td>\n",
              "      <td>145.0</td>\n",
              "    </tr>\n",
              "    <tr>\n",
              "      <th>1</th>\n",
              "      <td>37</td>\n",
              "      <td>130.0</td>\n",
              "    </tr>\n",
              "    <tr>\n",
              "      <th>2</th>\n",
              "      <td>41</td>\n",
              "      <td>130.0</td>\n",
              "    </tr>\n",
              "    <tr>\n",
              "      <th>3</th>\n",
              "      <td>56</td>\n",
              "      <td>120.0</td>\n",
              "    </tr>\n",
              "    <tr>\n",
              "      <th>4</th>\n",
              "      <td>57</td>\n",
              "      <td>120.0</td>\n",
              "    </tr>\n",
              "    <tr>\n",
              "      <th>...</th>\n",
              "      <td>...</td>\n",
              "      <td>...</td>\n",
              "    </tr>\n",
              "    <tr>\n",
              "      <th>298</th>\n",
              "      <td>57</td>\n",
              "      <td>140.0</td>\n",
              "    </tr>\n",
              "    <tr>\n",
              "      <th>299</th>\n",
              "      <td>45</td>\n",
              "      <td>110.0</td>\n",
              "    </tr>\n",
              "    <tr>\n",
              "      <th>300</th>\n",
              "      <td>68</td>\n",
              "      <td>144.0</td>\n",
              "    </tr>\n",
              "    <tr>\n",
              "      <th>301</th>\n",
              "      <td>57</td>\n",
              "      <td>130.0</td>\n",
              "    </tr>\n",
              "    <tr>\n",
              "      <th>302</th>\n",
              "      <td>57</td>\n",
              "      <td>130.0</td>\n",
              "    </tr>\n",
              "  </tbody>\n",
              "</table>\n",
              "<p>303 rows × 2 columns</p>\n",
              "</div>\n",
              "      <button class=\"colab-df-convert\" onclick=\"convertToInteractive('df-ec8ce503-bcd9-4300-96b5-e88135c68d78')\"\n",
              "              title=\"Convert this dataframe to an interactive table.\"\n",
              "              style=\"display:none;\">\n",
              "        \n",
              "  <svg xmlns=\"http://www.w3.org/2000/svg\" height=\"24px\"viewBox=\"0 0 24 24\"\n",
              "       width=\"24px\">\n",
              "    <path d=\"M0 0h24v24H0V0z\" fill=\"none\"/>\n",
              "    <path d=\"M18.56 5.44l.94 2.06.94-2.06 2.06-.94-2.06-.94-.94-2.06-.94 2.06-2.06.94zm-11 1L8.5 8.5l.94-2.06 2.06-.94-2.06-.94L8.5 2.5l-.94 2.06-2.06.94zm10 10l.94 2.06.94-2.06 2.06-.94-2.06-.94-.94-2.06-.94 2.06-2.06.94z\"/><path d=\"M17.41 7.96l-1.37-1.37c-.4-.4-.92-.59-1.43-.59-.52 0-1.04.2-1.43.59L10.3 9.45l-7.72 7.72c-.78.78-.78 2.05 0 2.83L4 21.41c.39.39.9.59 1.41.59.51 0 1.02-.2 1.41-.59l7.78-7.78 2.81-2.81c.8-.78.8-2.07 0-2.86zM5.41 20L4 18.59l7.72-7.72 1.47 1.35L5.41 20z\"/>\n",
              "  </svg>\n",
              "      </button>\n",
              "      \n",
              "  <style>\n",
              "    .colab-df-container {\n",
              "      display:flex;\n",
              "      flex-wrap:wrap;\n",
              "      gap: 12px;\n",
              "    }\n",
              "\n",
              "    .colab-df-convert {\n",
              "      background-color: #E8F0FE;\n",
              "      border: none;\n",
              "      border-radius: 50%;\n",
              "      cursor: pointer;\n",
              "      display: none;\n",
              "      fill: #1967D2;\n",
              "      height: 32px;\n",
              "      padding: 0 0 0 0;\n",
              "      width: 32px;\n",
              "    }\n",
              "\n",
              "    .colab-df-convert:hover {\n",
              "      background-color: #E2EBFA;\n",
              "      box-shadow: 0px 1px 2px rgba(60, 64, 67, 0.3), 0px 1px 3px 1px rgba(60, 64, 67, 0.15);\n",
              "      fill: #174EA6;\n",
              "    }\n",
              "\n",
              "    [theme=dark] .colab-df-convert {\n",
              "      background-color: #3B4455;\n",
              "      fill: #D2E3FC;\n",
              "    }\n",
              "\n",
              "    [theme=dark] .colab-df-convert:hover {\n",
              "      background-color: #434B5C;\n",
              "      box-shadow: 0px 1px 3px 1px rgba(0, 0, 0, 0.15);\n",
              "      filter: drop-shadow(0px 1px 2px rgba(0, 0, 0, 0.3));\n",
              "      fill: #FFFFFF;\n",
              "    }\n",
              "  </style>\n",
              "\n",
              "      <script>\n",
              "        const buttonEl =\n",
              "          document.querySelector('#df-ec8ce503-bcd9-4300-96b5-e88135c68d78 button.colab-df-convert');\n",
              "        buttonEl.style.display =\n",
              "          google.colab.kernel.accessAllowed ? 'block' : 'none';\n",
              "\n",
              "        async function convertToInteractive(key) {\n",
              "          const element = document.querySelector('#df-ec8ce503-bcd9-4300-96b5-e88135c68d78');\n",
              "          const dataTable =\n",
              "            await google.colab.kernel.invokeFunction('convertToInteractive',\n",
              "                                                     [key], {});\n",
              "          if (!dataTable) return;\n",
              "\n",
              "          const docLinkHtml = 'Like what you see? Visit the ' +\n",
              "            '<a target=\"_blank\" href=https://colab.research.google.com/notebooks/data_table.ipynb>data table notebook</a>'\n",
              "            + ' to learn more about interactive tables.';\n",
              "          element.innerHTML = '';\n",
              "          dataTable['output_type'] = 'display_data';\n",
              "          await google.colab.output.renderOutput(dataTable, element);\n",
              "          const docLink = document.createElement('div');\n",
              "          docLink.innerHTML = docLinkHtml;\n",
              "          element.appendChild(docLink);\n",
              "        }\n",
              "      </script>\n",
              "    </div>\n",
              "  </div>\n",
              "  "
            ]
          },
          "metadata": {},
          "execution_count": 8
        }
      ]
    },
    {
      "cell_type": "code",
      "source": [
        "import matplotlib.pyplot as plt\n",
        "plt.scatter(df['age'],df['trestbps'])"
      ],
      "metadata": {
        "colab": {
          "base_uri": "https://localhost:8080/",
          "height": 299
        },
        "id": "Wb8yWa-mWldJ",
        "outputId": "99e35fa9-947c-49da-eb6d-57aba5e54113"
      },
      "execution_count": null,
      "outputs": [
        {
          "output_type": "execute_result",
          "data": {
            "text/plain": [
              "<matplotlib.collections.PathCollection at 0x7f35017bfa50>"
            ]
          },
          "metadata": {},
          "execution_count": 9
        },
        {
          "output_type": "display_data",
          "data": {
            "text/plain": [
              "<Figure size 432x288 with 1 Axes>"
            ],
            "image/png": "[encoded data removed]"
          },
          "metadata": {}
        }
      ]
    },
    {
      "cell_type": "code",
      "source": [
        "df = df.fillna(df.mean().round(1))"
      ],
      "metadata": {
        "id": "A2lnu3IUWyib"
      },
      "execution_count": null,
      "outputs": []
    },
    {
      "cell_type": "code",
      "source": [
        "from sklearn.preprocessing import MinMaxScaler\n",
        "scaler = MinMaxScaler()\n",
        "# transform data\n",
        "df = scaler.fit_transform(df)\n",
        "# print(df)"
      ],
      "metadata": {
        "id": "xmqMYQyFd8Ni"
      },
      "execution_count": null,
      "outputs": []
    },
    {
      "cell_type": "code",
      "source": [
        "from sklearn.cluster import KMeans"
      ],
      "metadata": {
        "id": "JDCNou4OXgdb"
      },
      "execution_count": null,
      "outputs": []
    },
    {
      "cell_type": "code",
      "source": [
        "df = pd.DataFrame(df, columns = ['age','trestbps'])"
      ],
      "metadata": {
        "id": "RAKojZs3faQ0"
      },
      "execution_count": null,
      "outputs": []
    },
    {
      "cell_type": "code",
      "source": [
        "x=df.iloc[:,:].values\n",
        "km = KMeans(5)\n",
        "y_mean=km.fit_predict(x)"
      ],
      "metadata": {
        "id": "9NolgmOvYKfH"
      },
      "execution_count": null,
      "outputs": []
    },
    {
      "cell_type": "code",
      "source": [
        "x[y_mean==1]"
      ],
      "metadata": {
        "id": "g-CH-gRaZWTx"
      },
      "execution_count": null,
      "outputs": []
    },
    {
      "cell_type": "code",
      "source": [
        "plt.scatter(x[y_mean==0,0],x[y_mean==0,1],color='blue')\n",
        "plt.scatter(x[y_mean==1,0],x[y_mean==1,1],color='red')\n",
        "plt.scatter(x[y_mean==2,0],x[y_mean==2,1],color='green')\n",
        "plt.scatter(x[y_mean==3,0],x[y_mean==3,1],color='yellow')"
      ],
      "metadata": {
        "colab": {
          "base_uri": "https://localhost:8080/",
          "height": 299
        },
        "id": "xBtrLRofboaA",
        "outputId": "6b91d599-535d-401c-d2a3-4cd4644c2dab"
      },
      "execution_count": null,
      "outputs": [
        {
          "output_type": "execute_result",
          "data": {
            "text/plain": [
              "<matplotlib.collections.PathCollection at 0x7f34f41a2a50>"
            ]
          },
          "metadata": {},
          "execution_count": 16
        },
        {
          "output_type": "display_data",
          "data": {
            "text/plain": [
              "<Figure size 432x288 with 1 Axes>"
            ],
            "image/png": "[encoded data removed]"
          },
          "metadata": {}
        }
      ]
    },
    {
      "cell_type": "code",
      "source": [],
      "metadata": {
        "id": "4M4qwYPrPFED"
      },
      "execution_count": null,
      "outputs": []
    },
    {
      "cell_type": "markdown",
      "source": [
        "#Kmeans without libraries"
      ],
      "metadata": {
        "id": "I51rKc0HPU5R"
      }
    },
    {
      "cell_type": "code",
      "source": [
        "\n",
        "import matplotlib.pyplot as plt\n",
        "from matplotlib import style\n",
        "import numpy as np\n",
        "k=3\n",
        " \n",
        "X=[[2,10],[2,5],[8,4],[5,8],[7,5],[6,4],[1,2],[4,9]]\n",
        "Y=np.array(X)\n",
        " \n",
        "style.use('fivethirtyeight')\n",
        "plt.scatter(Y[:, 0], Y[:, 1], alpha=0.3)\n",
        "plt.show()\n",
        " \n",
        "def recalculate_clusters(X, centroids, k):\n",
        "    \"\"\" Recalculates the clusters \"\"\"\n",
        "    # Initiate empty clusters\n",
        "    clusters = {}\n",
        "    # Set the range for value of k (number of centroids)\n",
        "    for i in range(k):\n",
        "        clusters[i] = []\n",
        "    # Setting the plot points using dataframe (X) and the vector norm (magnitude/length)\n",
        "    for data in X:\n",
        "        # Set up list of euclidian distance and iterate through\n",
        "        euc_dist = []\n",
        "        for j in range(k):\n",
        "            euc_dist.append(np.linalg.norm(data - centroids[j]))\n",
        "        # Append the cluster of data to the dictionary\n",
        "        clusters[euc_dist.index(min(euc_dist))].append(data)\n",
        "    return clusters    \n",
        " \n",
        "def recalculate_centroids(centroids, clusters, k):\n",
        "    \"\"\" Recalculates the centroid position based on the plot \"\"\"\n",
        "    for i in range(k):\n",
        "        # Finds the average of the cluster at given index\n",
        "        centroids[i] = np.average(clusters[i], axis=0)\n",
        "    return centroids\n",
        " \n",
        "def plot_clusters(centroids, clusters, k):\n",
        "    \"\"\" Plots the clusters with centroid and specified graph attributes \"\"\"\n",
        "    colors = ['red', 'blue' , 'green', 'orange', 'blue', 'gray', 'yellow', 'purple']\n",
        "    plt.figure(figsize = (6, 4))  \n",
        "    area = (20) ** 2\n",
        "    for i in range(k):\n",
        "        for cluster in clusters[i]:\n",
        "            plt.scatter(cluster[0], cluster[1], c=colors[i % k], alpha=0.6)          \n",
        "        plt.scatter(centroids[i][0], centroids[i][1], c='black', s=200)\n",
        " \n",
        "def k_means_clustering(X, centroids={}, k=3, repeats=10):\n",
        "    \"\"\" Calculates full k_means_clustering algorithm \"\"\"\n",
        "    for i in range(k):\n",
        "        # Sets up the centroids based on the data\n",
        "        centroids[i] = X[i]\n",
        " \n",
        "    # Outputs the recalculated clusters and centroids\n",
        "    print(f'First and last of {repeats} iterations')\n",
        "    for i in range(repeats):        \n",
        "        clusters = recalculate_clusters(X, centroids, k)  \n",
        "        centroids = recalculate_centroids(centroids, clusters, k)\n",
        " \n",
        "        # Plot the first and last iteration of k_means given the repeats specified\n",
        "        # Default is 10, so this would output the 1st iteration and the 10th\n",
        "        if i == range(repeats)[-1] or i == range(repeats)[0]:\n",
        "            plot_clusters(centroids, clusters, k)\n",
        " \n",
        "k_means_clustering(Y)"
      ],
      "metadata": {
        "id": "QQR5XeNZPXoY",
        "colab": {
          "base_uri": "https://localhost:8080/",
          "height": 829
        },
        "outputId": "06f5a8c3-0ed4-425e-9042-8f8b16964a61"
      },
      "execution_count": null,
      "outputs": [
        {
          "output_type": "display_data",
          "data": {
            "text/plain": [
              "<Figure size 432x288 with 1 Axes>"
            ],
            "image/png": "[encoded data removed]"
          },
          "metadata": {}
        },
        {
          "output_type": "stream",
          "name": "stdout",
          "text": [
            "First and last of 10 iterations\n"
          ]
        },
        {
          "output_type": "display_data",
          "data": {
            "text/plain": [
              "<Figure size 432x288 with 1 Axes>"
            ],
            "image/png": "[encoded data removed]"
          },
          "metadata": {}
        },
        {
          "output_type": "display_data",
          "data": {
            "text/plain": [
              "<Figure size 432x288 with 1 Axes>"
            ],
            "image/png": "[encoded data removed]"
          },
          "metadata": {}
        }
      ]
    }
  ]
}